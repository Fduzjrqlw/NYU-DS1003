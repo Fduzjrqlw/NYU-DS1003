{
 "cells": [
  {
   "cell_type": "code",
   "execution_count": 18,
   "metadata": {
    "collapsed": true
   },
   "outputs": [],
   "source": [
    "import numpy as np\n",
    "import os\n",
    "import pickle\n",
    "import random\n",
    "import time\n",
    "from collections import Counter"
   ]
  },
  {
   "cell_type": "code",
   "execution_count": 2,
   "metadata": {
    "collapsed": true
   },
   "outputs": [],
   "source": [
    "def folder_list(path , label):\n",
    "    file_list = os.listdir(path)\n",
    "    review = []\n",
    "    for infile in file_list :\n",
    "        file = os.path.join(path , infile)\n",
    "        r = [read_data(file)]\n",
    "        r.append(label)\n",
    "        review.append(r)\n",
    "    return review"
   ]
  },
  {
   "cell_type": "code",
   "execution_count": 3,
   "metadata": {
    "collapsed": true
   },
   "outputs": [],
   "source": [
    "def read_data(file):\n",
    "    f = open(file)\n",
    "    symbols = '${}()[].,:;+-*/&|<>=~\" '\n",
    "    lines = f.readlines()\n",
    "    words = []\n",
    "    for line in lines :\n",
    "        line = line.strip()\n",
    "        sentences = line.split(' ')\n",
    "        words = words +  [w for w in sentences if w not in symbols]\n",
    "    return words"
   ]
  },
  {
   "cell_type": "code",
   "execution_count": 4,
   "metadata": {
    "collapsed": true
   },
   "outputs": [],
   "source": [
    "def split_review(review , train_size = 1500 , valid_size = 500) :\n",
    "    #划分训练集和验证集,同时获得对应的稀疏表示\n",
    "    X_train = [Counter(r[0]) for r in review[ : train_size]]\n",
    "    y_train = [r[1] for r in review[  : train_size]]\n",
    "    X_valid = [Counter(r[0]) for r in review[train_size : train_size + valid_size]]\n",
    "    y_valid = [r[1] for r in review[train_size : train_size + valid_size]]\n",
    "    return X_train , y_train , X_valid , y_valid"
   ]
  },
  {
   "cell_type": "code",
   "execution_count": 5,
   "metadata": {
    "collapsed": true
   },
   "outputs": [],
   "source": [
    "pos_path = 'data/pos'\n",
    "neg_path = 'data/neg'\n",
    "pos_review = folder_list(pos_path , 1)\n",
    "neg_review = folder_list(neg_path , -1)\n",
    "review = pos_review + neg_review\n",
    "random.seed(2020)\n",
    "random.shuffle(review)\n"
   ]
  },
  {
   "cell_type": "code",
   "execution_count": 6,
   "metadata": {
    "collapsed": true
   },
   "outputs": [],
   "source": [
    "X_train , y_train , X_valid , y_valid  = split_review(review)"
   ]
  },
  {
   "cell_type": "code",
   "execution_count": 7,
   "metadata": {
    "collapsed": true
   },
   "outputs": [],
   "source": [
    "def dotProduct(X , w) :\n",
    "    return sum(w.get(k , 0) * v for k , v in X.items())"
   ]
  },
  {
   "cell_type": "code",
   "execution_count": 8,
   "metadata": {
    "collapsed": true
   },
   "outputs": [],
   "source": [
    "def update(w , X , scale) :\n",
    "    for k , v in X.items() :\n",
    "        w[k] = w.get(k , 0) + scale * v"
   ]
  },
  {
   "cell_type": "code",
   "execution_count": 19,
   "metadata": {
    "collapsed": true
   },
   "outputs": [],
   "source": [
    "def pegasos(X_train , y_train , X_valid , y_valid , weight , num_iter = 1 , lambda_reg = 0.01) :\n",
    "    num_instances = len(X_train)\n",
    "    t = 0\n",
    "    for d in range(num_iter) :\n",
    "        for i in range(num_instances) :\n",
    "            t += 1\n",
    "            eta = 1 / (lambda_reg * t)\n",
    "            if (y_train[i] * dotProduct(X_train[i] , weight) < 1) :\n",
    "                update(weight , weight , - lambda_reg * eta)\n",
    "                update(weight , X_train[i] , eta * y_train[i])\n",
    "            else :\n",
    "                update(weight , weight , -lambda_reg * eta)\n",
    "    loss = sum(max(1 - y_train[i] * dotProduct(X_train[i] , weight) , 0) for i in range(num_instances)) / num_instances\n",
    "    return weight"
   ]
  },
  {
   "cell_type": "code",
   "execution_count": null,
   "metadata": {},
   "outputs": [],
   "source": []
  },
  {
   "cell_type": "code",
   "execution_count": 20,
   "metadata": {},
   "outputs": [],
   "source": [
    "def pegasos_tricks(X_train , y_train , X_valid , y_valid , weight , num_iter = 10 , lambda_reg = 0.01) :\n",
    "    num_instances = len(X_train)\n",
    "    t = 2\n",
    "    scale = 1\n",
    "    for d in range(num_iter) :\n",
    "        for i in range(num_instances) :\n",
    "            t += 1\n",
    "            eta = 1 / (lambda_reg * t)\n",
    "            scale = (1 - eta * lambda_reg) * scale\n",
    "            if (y_train[i] * scale * dotProduct(X_train[i] , weight) < 1) :\n",
    "                update(weight , X_train[i] , eta * y_train[i] / scale)\n",
    "#     loss = sum(max(1 - y_train[i] * dotProduct(X_train[i] , weight) * scale , 0) for i in range(num_instances)) / num_instances\n",
    "#     print (loss)\n",
    "    for k , v in weight.items() :\n",
    "        weight[k] = v * scale\n",
    "    return weight"
   ]
  },
  {
   "cell_type": "code",
   "execution_count": 22,
   "metadata": {
    "collapsed": true
   },
   "outputs": [],
   "source": [
    "def validate(X_valid , y_valid , weight) :\n",
    "    num_correct = 0\n",
    "    for i in range(len(y_valid)) :\n",
    "        if (y_valid[i] * dotProduct(X_valid[i] , weight) > 0) :\n",
    "            num_correct += 1\n",
    "    print (num_correct / len(y_valid))"
   ]
  },
  {
   "cell_type": "code",
   "execution_count": 23,
   "metadata": {},
   "outputs": [
    {
     "name": "stdout",
     "output_type": "stream",
     "text": [
      "0.06303697777777541\n",
      "678.3316600322723\n",
      "7.65860390663147\n"
     ]
    }
   ],
   "source": [
    "start_time = time.time()\n",
    "weight = {}\n",
    "weight = pegasos(X_train , y_train , X_valid , y_valid , weight , num_iter = 50 , lambda_reg = 0.1)\n",
    "end_time = time.time()\n",
    "print (end_time - start_time)\n",
    "start_time = time.time()\n",
    "w = {}\n",
    "w = pegasos_tricks(X_train , y_train , X_valid , y_valid , w , num_iter = 50 , lambda_reg = 0.1)\n",
    "end_time = time.time()\n",
    "print (end_time - start_time)"
   ]
  },
  {
   "cell_type": "code",
   "execution_count": 15,
   "metadata": {
    "collapsed": true
   },
   "outputs": [],
   "source": [
    "validate(X_valid , y_valid , w)\n",
    "validate(X_train , y_train , w)"
   ]
  },
  {
   "cell_type": "code",
   "execution_count": 16,
   "metadata": {},
   "outputs": [
    {
     "name": "stdout",
     "output_type": "stream",
     "text": [
      "0.77\n",
      "0.96\n"
     ]
    }
   ],
   "source": [
    "#validate(X_valid , y_valid , weight)\n"
   ]
  },
  {
   "cell_type": "code",
   "execution_count": 17,
   "metadata": {},
   "outputs": [
    {
     "name": "stdout",
     "output_type": "stream",
     "text": [
      "-0.11998400213304815\n",
      "0.37994934008798564\n"
     ]
    }
   ],
   "source": [
    "print (w['disappointment'])\n",
    "print (w['happy'])"
   ]
  },
  {
   "cell_type": "code",
   "execution_count": null,
   "metadata": {
    "collapsed": true
   },
   "outputs": [],
   "source": [
    "w"
   ]
  },
  {
   "cell_type": "code",
   "execution_count": null,
   "metadata": {
    "collapsed": true
   },
   "outputs": [],
   "source": []
  }
 ],
 "metadata": {
  "kernelspec": {
   "display_name": "Python 3",
   "language": "python",
   "name": "python3"
  },
  "language_info": {
   "codemirror_mode": {
    "name": "ipython",
    "version": 3
   },
   "file_extension": ".py",
   "mimetype": "text/x-python",
   "name": "python",
   "nbconvert_exporter": "python",
   "pygments_lexer": "ipython3",
   "version": "3.6.9"
  }
 },
 "nbformat": 4,
 "nbformat_minor": 2
}
