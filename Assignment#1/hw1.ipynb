{
 "cells": [
  {
   "cell_type": "code",
   "execution_count": 1,
   "metadata": {},
   "outputs": [
    {
     "name": "stderr",
     "output_type": "stream",
     "text": [
      "/Users/zhangjunrui/anaconda3/lib/python3.6/site-packages/sklearn/cross_validation.py:41: DeprecationWarning: This module was deprecated in version 0.18 in favor of the model_selection module into which all the refactored classes and functions are moved. Also note that the interface of the new CV iterators are different from that of this module. This module will be removed in 0.20.\n",
      "  \"This module will be removed in 0.20.\", DeprecationWarning)\n"
     ]
    }
   ],
   "source": [
    "import pandas as pd \n",
    "import logging\n",
    "import numpy as np\n",
    "import sys\n",
    "import matplotlib.pyplot as plt\n",
    "from sklearn.cross_validation import train_test_split"
   ]
  },
  {
   "cell_type": "code",
   "execution_count": 2,
   "metadata": {},
   "outputs": [
    {
     "name": "stdout",
     "output_type": "stream",
     "text": [
      "loading the dataset...\n"
     ]
    }
   ],
   "source": [
    "#读入数据集\n",
    "print ('loading the dataset...')\n",
    "df = pd.read_csv('hw1-data.csv' , delimiter = ',')\n",
    "X = df.values[:,:-1]\n",
    "y = df.values[: ,-1]"
   ]
  },
  {
   "cell_type": "code",
   "execution_count": 3,
   "metadata": {},
   "outputs": [
    {
     "name": "stdout",
     "output_type": "stream",
     "text": [
      "Split into Train and Test...\n"
     ]
    }
   ],
   "source": [
    "#划分训练集和测试集\n",
    "print ('Split into Train and Test...')\n",
    "# train_test_split 参数介绍 \n",
    "## train_test_split(train_data , test_data , test_size , random_state) \n",
    "## 其中test_size可选择正整数或者是[0,1]中的浮点数,表示测试集大小\n",
    "## random_state为随机数种子编号，方便调试\n",
    "X_train , X_test , y_train , y_test = train_test_split(X , y , test_size = 100 , random_state = 10)"
   ]
  },
  {
   "cell_type": "code",
   "execution_count": 4,
   "metadata": {
    "collapsed": true
   },
   "outputs": [],
   "source": [
    "def feature_normalization(train , test) : \n",
    "    '''\n",
    "    将每一维特征的数据利用线性变换[0,1]对训练数据和测试数据归一化,其中统计量来自于训练数据.\n",
    "    Args:\n",
    "        train - training set , 二维numpy数组(num_instances , num_features)\n",
    "        test - test set , 二维numpy数组(num_instances , num_features)\n",
    "    \n",
    "    Returns:\n",
    "        train_normalized - training set after normalization \n",
    "        test_normalized - test set after normalization\n",
    "    '''\n",
    "    mean = np.mean(train , axis = 0)\n",
    "    std = np.std(train , axis = 0)\n",
    "    try :\n",
    "        Max = np.max(train , axis = 0)\n",
    "        Min = np.min(train , axis = 0)\n",
    "        #这个地方的减法运用了广播机制,考虑后缘维度(从末尾开始算起的维度)的轴长度相同,或者其中的一方长度为1.\n",
    "        train_normalized = (train - Min) / (Max - Min)\n",
    "        test_normalized = (test - Min) / (Max - Min)\n",
    "    except ValueError :\n",
    "        print ('There maybe some features are exactly same !')\n",
    "    return train_normalized , test_normalized"
   ]
  },
  {
   "cell_type": "code",
   "execution_count": 5,
   "metadata": {},
   "outputs": [
    {
     "name": "stdout",
     "output_type": "stream",
     "text": [
      "Scaling all to [0,1]\n"
     ]
    }
   ],
   "source": [
    "#归一化\n",
    "print ('Scaling all to [0,1]')\n",
    "X_train , X_test = feature_normalization(X_train , X_test)\n",
    "#添加偏置项 Add bias term\n",
    "## np.hstack函数用来横向堆叠   np.hstack([arr1 , arr2])   要求arr1和arr2都是相同维数的矩阵,比如二维矩阵.然后其中行数要相同\n",
    "## np.vstack函数用来纵向堆叠\n",
    "X_train = np.hstack((X_train , np.ones([X_train.shape[0] , 1])))\n",
    "X_test = np.hstack((X_test , np.ones([X_test.shape[0] , 1])))"
   ]
  },
  {
   "cell_type": "code",
   "execution_count": 6,
   "metadata": {
    "collapsed": true
   },
   "outputs": [],
   "source": [
    "def compute_square_loss(X , y , theta) :\n",
    "    '''\n",
    "    给定X,y,theta,计算用X*theta作为y预测的平方损失   loss = |X * theta - y|^2 / m\n",
    "    Args:\n",
    "        X - 输入特征数据 , 二维numpy数组(num_instances , num_features)\n",
    "        y - 标签label数据 , 一维numpy数组(num_instances)\n",
    "        theta - 模型参数数据 , 一维numpy数组(num_features)\n",
    "    Returns:\n",
    "        loss - 平方损失 , 标量\n",
    "    '''\n",
    "    #这里用到了np.matmul的一些性质 y_ = X * theta.T\n",
    "    #np.matmul(X,theta) = np.matmul(X,theta.T)\n",
    "    y_ = np.matmul(X , theta)\n",
    "    #print (y_)\n",
    "    loss = np.mean((y_ - y) ** 2) / 2\n",
    "    return loss"
   ]
  },
  {
   "cell_type": "code",
   "execution_count": 7,
   "metadata": {
    "collapsed": true
   },
   "outputs": [],
   "source": [
    "def compute_square_loss_gradient(X , y , theta) :\n",
    "    ''' \n",
    "    计算平方损失函数关于参数theta的梯度   grad = X^T * (X * theta - y) / m\n",
    "    Args:\n",
    "        X - 输入特征数据 , 二维numpy数组(num_instances , num_features)\n",
    "        y - 标签label数据 , 一维numpy数组(num_instances)\n",
    "        theta - 模型参数数据 , 一维numpy数组(num_features)\n",
    "    Returns:\n",
    "        grad - 梯度向量 , 一维numpy数组(num_features)\n",
    "    '''\n",
    "    num_instances = X.shape[0]\n",
    "    grad = np.matmul(X.T  , np.matmul(X , theta) - y) / num_instances\n",
    "    return grad"
   ]
  },
  {
   "cell_type": "code",
   "execution_count": 8,
   "metadata": {
    "collapsed": true
   },
   "outputs": [],
   "source": [
    "theta = np.ones(X_train.shape[1])\n",
    "loss = compute_square_loss(X_train , y_train , theta)\n",
    "grad = compute_square_loss_gradient(X_train , y_train , theta)"
   ]
  },
  {
   "cell_type": "code",
   "execution_count": 9,
   "metadata": {},
   "outputs": [
    {
     "name": "stdout",
     "output_type": "stream",
     "text": [
      "[14 32]\n",
      "[14 32]\n"
     ]
    }
   ],
   "source": [
    "x = np.array([[1,2,3],[4,5,6]])\n",
    "w = np.array([1,2,3])\n",
    "print (np.matmul(x , w))\n",
    "print (np.matmul(x , w.T))"
   ]
  },
  {
   "cell_type": "code",
   "execution_count": 10,
   "metadata": {
    "collapsed": true
   },
   "outputs": [],
   "source": [
    "def gradient_check(X , y , theta , epsilon = 0.01 , tolerance = 1e-4) :\n",
    "    '''\n",
    "    利用梯度的定义近似计算梯度，以检验compute_square_loss_gradient函数计算的梯度是否正确\n",
    "    设d表示特征维度(包括了bias term),e_1=(1,0,...,0),e_2=(0,1,0,...,0),...,e_d=(0,0,...,0,1)\n",
    "    近似梯度可以通过如下公式计算,其第i个分量可以表示为\n",
    "        J(theta + epsilon * e_i) - J(theta - epsilon * e_i) / (2 * epsilon)\n",
    "    之后考虑计算真实梯度和近似梯度的欧几里得距离来验证计算是否正确\n",
    "    \n",
    "    Args:\n",
    "        X - 输入特征数据 , 二维numpy数组(num_instances , num_features)\n",
    "        y - 标签label数据 , 一维numpy数组(num_instances)\n",
    "        theta - 模型参数数据 , 一维numpy数组(num_features)\n",
    "        epsilon - 近似时使用的单位方向上的步长参数\n",
    "        tolerance - 允许误差\n",
    "    \n",
    "    Returns:\n",
    "        一个布尔值 , 表示计算是否正确\n",
    "    '''\n",
    "    true_grad = compute_square_loss_gradient(X , y , theta)\n",
    "    num_features = theta.shape[0]\n",
    "    approx_grad = np.zeros(num_features)\n",
    "    I = np.identity(num_features)\n",
    "    for i in range(num_features) :\n",
    "        delta = I[i] * epsilon\n",
    "        approx_grad[i] = (compute_square_loss(X , y , theta + delta) - compute_square_loss(X , y , theta - delta))/ (2 * epsilon)\n",
    "    dis = np.mean((true_grad - approx_grad)**2)\n",
    "    return (dis < tolerance)"
   ]
  },
  {
   "cell_type": "code",
   "execution_count": 11,
   "metadata": {},
   "outputs": [
    {
     "data": {
      "text/plain": [
       "True"
      ]
     },
     "execution_count": 11,
     "metadata": {},
     "output_type": "execute_result"
    }
   ],
   "source": [
    "gradient_check(X_train , y_train , theta)"
   ]
  },
  {
   "cell_type": "code",
   "execution_count": 12,
   "metadata": {
    "collapsed": true
   },
   "outputs": [],
   "source": [
    "def generic_gradient_check(X , y , theta , objective_func , gradient_func , epsilon = 0.01 , tolerance = 1e-4) :\n",
    "    '''\n",
    "    一般情形的梯度检验函数\n",
    "    Args:\n",
    "        X - 输入特征数据 , 二维numpy数组(num_instances , num_features)\n",
    "        y - 标签label数据 , 一维numpy数组(num_instances)\n",
    "        theta - 模型参数数据 , 一维numpy数组(num_features)\n",
    "        objective_func - 目标函数的函数,返回目标值loss\n",
    "        gradient_func - 梯度公式函数,返回梯度\n",
    "        epsilon - 近似时使用的单位方向上的步长参数\n",
    "        tolerance - 允许误差\n",
    "    Returns:\n",
    "        一个布尔值 , 表示计算是否正确\n",
    "    '''\n",
    "    true_grad = gradient_func(X , y , theta)\n",
    "    num_features = theta.shape[0]\n",
    "    approx_grad = np.zeros(num_features)\n",
    "    ind = np.identity(num_features)\n",
    "    for i in range(num_features) :\n",
    "        delta = ind[i]\n",
    "        approx_grad[i] = (objective_func(X , y , theta + epsilon * delta) - objective_func(X , y , theta - epsilon * delta)) / (2 * epsilon)\n",
    "    dis = np.mean((true_grad - approx_grad)**2)\n",
    "    return (dis < tolerance)"
   ]
  },
  {
   "cell_type": "code",
   "execution_count": 13,
   "metadata": {
    "collapsed": true
   },
   "outputs": [],
   "source": [
    "def batch_grad_descent(X , y , alpha = 0.01 , num_iter = 1000 , check_gradient = False) :\n",
    "    '''\n",
    "    利用梯度下降法求解平方损失函数的线性模型的参数\n",
    "    \n",
    "    Args:\n",
    "        X - 输入特征数据 , 二维numpy数组(num_instances , num_features)\n",
    "        y - 标签label数据 , 一维numpy数组(num_instances)\n",
    "        alpha - 学习率/梯度步长 , 标量\n",
    "        num_iter - 最大迭代次数 , 标量\n",
    "        check_gradient - 是否进行梯度计算检验 , 布尔值\n",
    "    Returns:\n",
    "        theta_hist - 迭代过程中储存的参数列表 , 二维numpy数组(num_iter + 1 , num_features) , 其中 theta_hist[0]为初始参数, \n",
    "                     theta_hist[-1]为迭代结束时的参数\n",
    "        loss_hist - 迭代过程中储存的loss列表,一维numpy数组(num_iter + 1)\n",
    "    '''\n",
    "    [num_instances , num_features] = X.shape\n",
    "    theta_hist = np.zeros((num_iter + 1 , num_features))  #初始化参数列表\n",
    "    loss_hist = np.zeros(num_iter + 1)\n",
    "    theta = np.ones(num_features)\n",
    "    \n",
    "    theta_hist[0] = theta\n",
    "    loss_hist[0] = compute_square_loss(X , y , theta)\n",
    "    \n",
    "    for i in range(num_iter) :\n",
    "        if (check_gradient == True) :\n",
    "            if (gradient_check(X , y , theta) == False) :\n",
    "                return False\n",
    "        theta = theta - alpha * compute_square_loss_gradient(X , y , theta)\n",
    "        theta_hist[i + 1] = theta\n",
    "        loss_hist[i + 1] = compute_square_loss(X , y , theta)\n",
    "    \n",
    "    return theta_hist , loss_hist"
   ]
  },
  {
   "cell_type": "code",
   "execution_count": 14,
   "metadata": {
    "collapsed": true
   },
   "outputs": [],
   "source": [
    "theta_hist , loss_hist = batch_grad_descent(X_train , y_train)\n",
    "#print (loss_hist[-1])"
   ]
  },
  {
   "cell_type": "code",
   "execution_count": 15,
   "metadata": {
    "collapsed": true,
    "scrolled": false
   },
   "outputs": [],
   "source": [
    "def Experiment1(X_train , y_train , X_test , y_test) :\n",
    "    '''\n",
    "    实验一主要讨论了学习率以及迭代次数对于模型收敛性的影响\n",
    "    现象：1.当学习率过大时,模型难以收敛\n",
    "         2.当学习率较小并且轮数较多的时候,虽然在training set上的loss减小,但是test set上的loss反而增加\n",
    "    '''\n",
    "    alpha_list = [0.1 , 0.05 ,0.01 , 0.005]\n",
    "    color_list = ['G' , 'B' , 'R' , 'Y']\n",
    "    #plt.figure(figsize = (16 , 16))\n",
    "    num_iter = 2000\n",
    "    step_size = 100\n",
    "#     plt.xlim(0 , num_iter)\n",
    "#     plt.ylim(0 , 5)\n",
    "    for i in range(len(alpha_list)) :\n",
    "        theta_hist , loss_hist = batch_grad_descent(X_train , y_train , alpha = alpha_list[i] , num_iter = num_iter)\n",
    "        x_cord = [step_size * i for i in range(int(num_iter / step_size) + 1)]\n",
    "        y_cord = [loss_hist[step_size * i] for i in range(int(num_iter / step_size) + 1)]\n",
    "        #plt.plot(x_cord , y_cord , label = 'alpha = '+  str(alpha_list[i]) , color = color_list[i])\n",
    "        #print (i , 'train_error =' , loss_hist[-1] , ', test_error =' , compute_square_loss(X_test , y_test , theta_hist[-1]))\n",
    "    #plt.show()\n",
    "Experiment1(X_train , y_train , X_test , y_test)"
   ]
  },
  {
   "cell_type": "code",
   "execution_count": 16,
   "metadata": {
    "collapsed": true
   },
   "outputs": [],
   "source": [
    "def batch_grad_descent_Backtracking_line_search(X , y , num_iter = 1000 , gamma = 0.5 , epsilon = 0.25) :\n",
    "    '''\n",
    "    利用回溯线性搜索方法优化的梯度下降法,原来是每一次迭代中,先求出梯度下降方向,然后为了不一次越界,考虑找到一个合理的最大步长t*grad,\n",
    "                            这个t应该满足while循环里的条件 L(theta - t * grad) <= L(theta) - epsilon * <t * grad , grad>\n",
    "                                                                            = L(theta) - epsilon * t * |grad|^2\n",
    "    Args:\n",
    "        X - 输入特征数据 , 二维numpy数组(num_instances , num_features)\n",
    "        y - 标签label数据 , 一维numpy数组(num_instances)\n",
    "        num_iter - 最大迭代次数 , 标量\n",
    "        gamma - 回溯时使用的放缩参数 , 标量 , 0 < gammar < 1\n",
    "        epsilon - 搜索停止参数 , 标量\n",
    "    Returns:\n",
    "        theta_hist - 迭代过程中储存的参数列表 , 二维numpy数组(num_iter + 1 , num_features) , 其中 theta_hist[0]为初始参数, \n",
    "                     theta_hist[-1]为迭代结束时的参数\n",
    "        loss_hist - 迭代过程中储存的loss列表,一维numpy数组(num_iter + 1)\n",
    "    '''\n",
    "    [num_instances , num_features] = X.shape\n",
    "    theta_hist = np.zeros((num_iter + 1 , num_features))\n",
    "    loss_hist = np.zeros(num_iter + 1)\n",
    "    theta = np.ones(num_features)\n",
    "    loss = compute_square_loss(X , y , theta)\n",
    "    \n",
    "    theta_hist[0] = theta\n",
    "    loss_hist[0] = loss\n",
    "    \n",
    "    for i in range(num_iter) :\n",
    "        grad = compute_square_loss_gradient(X , y , theta)\n",
    "        square_grad = np.sum(grad * grad)\n",
    "        t = 1.0\n",
    "        while ((compute_square_loss(X , y , theta - t * grad)) > (loss - epsilon * t * square_grad)) :\n",
    "            t = t * gamma\n",
    "        theta = theta - t * gamma * grad\n",
    "        loss = compute_square_loss(X , y , theta)\n",
    "        theta_hist[i + 1] = theta\n",
    "        loss_hist[i + 1] = loss\n",
    "    return theta_hist , loss_hist"
   ]
  },
  {
   "cell_type": "code",
   "execution_count": 17,
   "metadata": {},
   "outputs": [
    {
     "name": "stdout",
     "output_type": "stream",
     "text": [
      "1.18220359532076\n",
      "1.477647851866748\n"
     ]
    }
   ],
   "source": [
    "def Experiment2(X_train , y_train , X_test , y_test) :\n",
    "    '''\n",
    "    实验二讨论了朴素的梯度下降法和利用回溯线性搜索优化的梯度下降法的效率问题,发现后者可以更快更好地收敛.\n",
    "    '''\n",
    "    theta_hist , loss_hist = batch_grad_descent_Backtracking_line_search(X_train , y_train , num_iter = 200)\n",
    "    print (loss_hist[-1])\n",
    "    theta_hist , loss_hist = batch_grad_descent(X_train , y_train , num_iter = 200 , alpha = 0.1)\n",
    "    print (loss_hist[-1])\n",
    "Experiment2(X_train , y_train , X_test , y_test)"
   ]
  },
  {
   "cell_type": "code",
   "execution_count": 18,
   "metadata": {
    "collapsed": true
   },
   "outputs": [],
   "source": [
    "def compute_regularized_square_loss(X , y , theta , lambda_reg = 1 , B = 0) :\n",
    "    '''\n",
    "    带正则的线性模型的平方损失函数  loss = |X * theta - y|^2 / m + lambda_reg * |theta|^2 + (B - 1) * theta[-1]^2\n",
    "    Args:\n",
    "        X - 输入特征数据 , 二维numpy数组(num_instances , num_features)\n",
    "        y - 标签label数据 , 一维numpy数组(num_instances)\n",
    "        theta - 模型参数数据 , 一维numpy数组(num_features)\n",
    "        lambda_reg - 正则化项系数 , 标量\n",
    "        B - 消除bias term的正则化影响 , 标量  \n",
    "    Returns:\n",
    "        loss - 平方损失 , 标量\n",
    "    '''\n",
    "    y_ = np.matmul(X , theta)\n",
    "    square_loss = np.mean((y - y_) ** 2) / 2\n",
    "    reg_loss = lambda_reg * np.sum((theta) ** 2)\n",
    "    reg_loss += (B - 1) * lambda_reg * theta[-1] * theta[-1]\n",
    "    loss = square_loss + reg_loss\n",
    "    return loss"
   ]
  },
  {
   "cell_type": "code",
   "execution_count": 19,
   "metadata": {
    "collapsed": true
   },
   "outputs": [],
   "source": [
    "# 在解决回归问题时,不该对bias term加正则约束,因此需要调整.\n",
    "         #一种方法是在生成额外特征时的1可以换成一个充分大的B\n",
    "         #第二种方法在计算loss和grad的时候修改掉\n",
    "        \n",
    "def compute_regularized_square_loss_gradient(X , y , theta , lambda_reg = 1 , B = 0) :\n",
    "    ''' \n",
    "    计算平方损失函数关于参数theta的梯度   grad = X^T * (X * theta - y) / m + 2 * lambda_reg * (theta - (0,0,...,theta[-1]))\n",
    "    Args:\n",
    "        X - 输入特征数据 , 二维numpy数组(num_instances , num_features)\n",
    "        y - 标签label数据 , 一维numpy数组(num_instances)\n",
    "        theta - 模型参数数据 , 一维numpy数组(num_features)\n",
    "        lambda_reg - 正则化系数 , 标量\n",
    "        B - 消除bias term的正则化影响 , 标量\n",
    "    Returns:\n",
    "        grad - 梯度向量 , 一维numpy数组(num_features)\n",
    "    '''\n",
    "    num_instances = X.shape[0]\n",
    "    y_ = np.matmul(X , theta)\n",
    "    grad_square = np.matmul(X.T , (y_ - y)) / num_instances\n",
    "    grad_reg = 2 * lambda_reg * theta\n",
    "    grad_reg[-1] += 2 * (B - 1) * lambda_reg * theta[-1]\n",
    "    grad = grad_square + grad_reg\n",
    "    return grad"
   ]
  },
  {
   "cell_type": "code",
   "execution_count": 20,
   "metadata": {},
   "outputs": [
    {
     "data": {
      "text/plain": [
       "True"
      ]
     },
     "execution_count": 20,
     "metadata": {},
     "output_type": "execute_result"
    }
   ],
   "source": [
    "# print (compute_square_loss(X_train , y_train , theta))\n",
    "# print (compute_regularized_square_loss(X_train , y_train , theta , lambda_reg = 0))\n",
    "theta = np.ones(X_train.shape[1])\n",
    "#print (compute_regularized_square_loss_gradient(X_train , y_train , theta))\n",
    "generic_gradient_check(X_train , y_train , theta , compute_regularized_square_loss , compute_regularized_square_loss_gradient)"
   ]
  },
  {
   "cell_type": "code",
   "execution_count": 21,
   "metadata": {
    "collapsed": true
   },
   "outputs": [],
   "source": [
    "def stochastic_grad_descent(X , y , alpha = 0.0001 , lambda_reg = 1 ,\n",
    "                            num_iter = 1000 , B = 0 , \n",
    "                            objective_func = compute_regularized_square_loss , \n",
    "                            gradient_func = compute_regularized_square_loss_gradient):\n",
    "    '''\n",
    "    利用随机梯度梯度下降法求解平方损失函数的线性模型的参数,每一轮中都要对数据进行一次shuffle,然后只用一个样本数据进行梯度更新\n",
    "    Args:\n",
    "        X - 输入特征数据 , 二维numpy数组(num_instances , num_features)\n",
    "        y - 标签label数据 , 一维numpy数组(num_instances)\n",
    "        alpha - 学习率/梯度步长 , 标量\n",
    "        lambda_reg - 正则化系数 , 标量\n",
    "        num_iter - 最大迭代轮数 , 标量\n",
    "        B - 消除bias term的正则化影响 , 标量\n",
    "        objective_func - 损失函数 , 函数\n",
    "        gradient_func - 损失函数对应的梯度函数 , 函数\n",
    "    Returns:\n",
    "        theta_hist - 迭代过程中储存的参数列表 , 三维numpy数组(num_iter , num_instances , num_features)\n",
    "        loss_hist - 迭代过程中储存的loss列表,二维numpy数组(num_iter , num_instances)\n",
    "    '''\n",
    "    [num_instances , num_features] = X.shape\n",
    "    theta = np.ones(num_features)\n",
    "    loss = objective_func(X , y , theta , lambda_reg , B)\n",
    "    index = np.array(range(num_instances))\n",
    "    theta_hist = np.zeros((num_iter , num_instances , num_features))\n",
    "    loss_hist = np.zeros((num_iter , num_instances))\n",
    "    \n",
    "    for i in range(num_iter) :\n",
    "        np.random.shuffle(index)\n",
    "        for j in range(num_instances) :\n",
    "            X_feed = X[index[j]].reshape(1 , -1)\n",
    "            y_feed = np.array(y[index[j]])\n",
    "            grad = gradient_func(X_feed , y_feed , theta , lambda_reg , B)\n",
    "            theta -= alpha * grad\n",
    "            loss = objective_func(X , y  , theta , lambda_reg , B)\n",
    "            theta_hist[i][j] = theta\n",
    "            loss_hist[i][j] = loss\n",
    "    return theta_hist , loss_hist\n",
    "    "
   ]
  },
  {
   "cell_type": "code",
   "execution_count": 22,
   "metadata": {},
   "outputs": [
    {
     "name": "stdout",
     "output_type": "stream",
     "text": [
      "[3.67599942 3.67598473 3.67599073 3.67598571 3.67600233 3.67598994\n",
      " 3.67600427 3.67603785 3.67601764 3.6760163  3.67601886 3.67599824\n",
      " 3.67599755 3.67599555 3.6759953  3.67604739 3.67604207 3.6760073\n",
      " 3.67602109 3.67599872 3.67599539 3.67600455 3.67602282 3.67600646\n",
      " 3.67600307 3.67601024 3.67601166 3.67603189 3.67602293 3.67602311\n",
      " 3.67602275 3.6760278  3.67626602 3.67610455 3.67636858 3.6763866\n",
      " 3.67662429 3.67731943 3.67716872 3.67722767 3.67715922 3.67680824\n",
      " 3.67683083 3.67691928 3.67724894 3.67698208 3.67697392 3.67704509\n",
      " 3.67709049 3.67716226 3.67750709 3.67754151 3.67752929 3.67755208\n",
      " 3.6774084  3.67725317 3.67729911 3.67732175 3.67732174 3.67775465\n",
      " 3.67758349 3.67755121 3.67751839 3.67749922 3.67703268 3.67705371\n",
      " 3.67661579 3.67655073 3.67631537 3.67642347 3.67643017 3.6765416\n",
      " 3.67646577 3.67635487 3.67636874 3.67643026 3.67623343 3.67626111\n",
      " 3.67612328 3.67618724 3.67635794 3.67629513 3.67636401 3.67604694\n",
      " 3.67605562 3.67606221 3.67607234 3.67598348 3.67610507 3.6759712\n",
      " 3.67597269 3.67597574 3.67610447 3.67614444 3.67608364 3.67608833\n",
      " 3.67610032 3.67604172 3.6759799  3.67598512]\n"
     ]
    }
   ],
   "source": [
    "theta_hist , loss_hist = stochastic_grad_descent(X_train , y_train , \n",
    "                                                 objective_func = compute_regularized_square_loss ,\n",
    "                                                 gradient_func = compute_regularized_square_loss_gradient)\n",
    "print (loss_hist[-1])"
   ]
  },
  {
   "cell_type": "code",
   "execution_count": 23,
   "metadata": {
    "collapsed": true
   },
   "outputs": [],
   "source": [
    "def adaptive_learning_rate_stochastic_grad_descent(X , y , alpha = 0.01 , lambda_reg = 1 , num_iter = 1000 , B = 0 , \n",
    "                                                  objective_func = compute_regularized_square_loss , \n",
    "                                                  gradient_func = compute_regularized_square_loss_gradient):\n",
    "    '''\n",
    "    利用随机梯度梯度下降法求解平方损失函数的线性模型的参数,每一轮中都要对数据进行一次shuffle,然后只用一个样本数据进行梯度更新,\n",
    "    学习率会随着迭代次数增加而逐渐减小,有1/t和1/sqrt(t)两种衰减方式\n",
    "    Args:\n",
    "        X - 输入特征数据 , 二维numpy数组(num_instances , num_features)\n",
    "        y - 标签label数据 , 一维numpy数组(num_instances)\n",
    "        alpha - 初始学习率/梯度步长 , 标量\n",
    "        lambda_reg - 正则化系数 , 标量\n",
    "        num_iter - 最大迭代轮数 , 标量\n",
    "        B - 消除bias term的正则化影响 , 标量\n",
    "        objective_func - 损失函数 , 函数\n",
    "        gradient_func - 损失函数对应的梯度函数 , 函数\n",
    "    Returns:\n",
    "        theta_hist - 迭代过程中储存的参数列表 , 三维numpy数组(num_iter , num_instances , num_features)\n",
    "        loss_hist - 迭代过程中储存的loss列表,二维numpy数组(num_iter , num_instances)\n",
    "    '''\n",
    "    [num_instances , num_features] = X.shape\n",
    "    theta = np.ones(num_features)\n",
    "    loss = objective_func(X , y , theta , lambda_reg , B)\n",
    "    index = np.array(range(num_instances))\n",
    "    theta_hist = np.zeros((num_iter , num_instances , num_features))\n",
    "    loss_hist = np.zeros((num_iter , num_instances))\n",
    "    \n",
    "    for t in range(num_iter) :\n",
    "        np.random.shuffle(index)\n",
    "        for i in range(num_instances) :\n",
    "            X_feed = X[index[i]].reshape(1 , -1)\n",
    "            y_feed = np.array(y[index[i]])\n",
    "            beta = alpha / np.sqrt(t + 1)\n",
    "            grad = gradient_func(X_feed , y_feed , theta , lambda_reg , B)\n",
    "            theta -= beta * grad\n",
    "            loss = objective_func(X , y  , theta , lambda_reg , B)\n",
    "            theta_hist[t][i] = theta\n",
    "            loss_hist[t][i] = loss\n",
    "    return theta_hist , loss_hist"
   ]
  },
  {
   "cell_type": "code",
   "execution_count": 24,
   "metadata": {},
   "outputs": [
    {
     "name": "stdout",
     "output_type": "stream",
     "text": [
      "3.6753688522707417\n"
     ]
    }
   ],
   "source": [
    "theta_hist , loss_hist = adaptive_learning_rate_stochastic_grad_descent(X_train , y_train)\n",
    "print (loss_hist[-1][-1])"
   ]
  },
  {
   "cell_type": "code",
   "execution_count": 49,
   "metadata": {
    "collapsed": true
   },
   "outputs": [],
   "source": [
    "def Experiment3(X_train , y_train , X_test , y_test) :\n",
    "    '''\n",
    "    实验三讨论了BGD和SGD的收敛效率和稳定性的区别.从图中可以看出,SGD迅速下降到局部最优解附近,且反复震荡.\n",
    "    '''\n",
    "    plt.figure(figsize = (16 , 16))\n",
    "    num_iter = 20000\n",
    "    step_size = 200\n",
    "    plt.xlim(0 , num_iter)\n",
    "    plt.ylim(0 , 1)\n",
    "    theta_hist , loss_hist = batch_grad_descent(X_train , y_train , alpha = 0.01 , num_iter = num_iter)\n",
    "    #print (loss_hist[-1])\n",
    "    x_cord = [step_size * i for i in range(int(num_iter / step_size))]\n",
    "    y_cord = [np.log10(loss_hist[step_size * i + 1]) for i in range(int(num_iter / step_size))]\n",
    "    plt.plot(x_cord , y_cord , color = 'G')\n",
    "    theta_hist , loss_hist =stochastic_grad_descent(X_train , y_train , alpha = 0.01 , lambda_reg = 0 , B = 0 , num_iter = num_iter)\n",
    "    #print (loss_hist[-1][-1])\n",
    "    y_cord = [np.log10(loss_hist[step_size * i][-1]) for i in range(int(num_iter / step_size))]\n",
    "    plt.plot(x_cord , y_cord , color = 'R')\n",
    "    plt.show()\n",
    "    \n",
    "    "
   ]
  },
  {
   "cell_type": "code",
   "execution_count": 50,
   "metadata": {},
   "outputs": [
    {
     "data": {
      "image/png": "[encoded data removed]",
      "text/plain": [
       "<matplotlib.figure.Figure at 0x10c797ef0>"
      ]
     },
     "metadata": {},
     "output_type": "display_data"
    }
   ],
   "source": [
    "Experiment3(X_train , y_train , X_test , y_test)\n"
   ]
  },
  {
   "cell_type": "code",
   "execution_count": null,
   "metadata": {
    "collapsed": true
   },
   "outputs": [],
   "source": []
  }
 ],
 "metadata": {
  "kernelspec": {
   "display_name": "Python 3",
   "language": "python",
   "name": "python3"
  },
  "language_info": {
   "codemirror_mode": {
    "name": "ipython",
    "version": 3
   },
   "file_extension": ".py",
   "mimetype": "text/x-python",
   "name": "python",
   "nbconvert_exporter": "python",
   "pygments_lexer": "ipython3",
   "version": "3.6.9"
  }
 },
 "nbformat": 4,
 "nbformat_minor": 2
}
